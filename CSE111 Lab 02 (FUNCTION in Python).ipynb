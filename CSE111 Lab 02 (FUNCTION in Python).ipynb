{
  "nbformat": 4,
  "nbformat_minor": 0,
  "metadata": {
    "colab": {
      "provenance": []
    },
    "kernelspec": {
      "name": "python3",
      "display_name": "Python 3"
    },
    "language_info": {
      "name": "python"
    }
  },
  "cells": [
    {
      "cell_type": "code",
      "source": [
        "#Classwork (1 to 6)\n",
        "#Task 1\n",
        "def bmi(a,b):\n",
        "  h=a/100\n",
        "  w=b\n",
        "  d=round((w/h**2),1)\n",
        "  if d<18.5:\n",
        "    return(f\"Score is {d}. You are Underweight\")\n",
        "  elif 18.5<=d<=24.9:\n",
        "     return(f\"Score is {d}. You are Normal\")\n",
        "  elif 25<=d<=30:\n",
        "    return(f\"Score is {d}. You are Overweight \")\n",
        "  elif d>30:\n",
        "    return(f\"Score is {d}. You are Obese\")\n",
        "bmi(a=int(input(\"height :\")),b=int(input(\"weight(cm) :\")))\n"
      ],
      "metadata": {
        "colab": {
          "base_uri": "https://localhost:8080/",
          "height": 73
        },
        "id": "9Lo_U1r_ZjQC",
        "outputId": "44df845c-3e91-4e4d-8a48-1e114f08c8c8"
      },
      "execution_count": null,
      "outputs": [
        {
          "name": "stdout",
          "output_type": "stream",
          "text": [
            "height :175\n",
            "weight(cm) :96\n"
          ]
        },
        {
          "output_type": "execute_result",
          "data": {
            "text/plain": [
              "'Score is 31.3. You are Obese'"
            ],
            "application/vnd.google.colaboratory.intrinsic+json": {
              "type": "string"
            }
          },
          "metadata": {},
          "execution_count": 6
        }
      ]
    },
    {
      "cell_type": "code",
      "source": [
        "#Classwork (1 to 6)\n",
        "#Task 2\n",
        "def food(items,b=\"Mohakhali\"):\n",
        "  arr=[250,170,200]\n",
        "  meal_cost=0\n",
        "  if items ==\"BBQ Chicken Cheese Burger\":\n",
        "    meal_cost+=arr[0]\n",
        "  elif items ==\"Beef Burger\":\n",
        "    meal_cost+=arr[1]\n",
        "  elif items ==\"Naga Drums\":\n",
        "    meal_cost+=arr[2]\n",
        "  meal_cost+=meal_cost*.08\n",
        "  if b==\"Mohakhali\":\n",
        "    meal_cost+=40\n",
        "  else:\n",
        "    meal_cost+=60\n",
        "  print(meal_cost)\n",
        "food(items = input(\"Name of item :\") , b = input(\"Place :\"))\n",
        "#Beef Burger\" \"Dhanmondi\""
      ],
      "metadata": {
        "colab": {
          "base_uri": "https://localhost:8080/"
        },
        "id": "0ujBDEUUaQQ5",
        "outputId": "e52ec275-c975-4bbe-c43d-12a0865afaa2"
      },
      "execution_count": null,
      "outputs": [
        {
          "output_type": "stream",
          "name": "stdout",
          "text": [
            "Name of item :Beef Burger\n",
            "Place :Dhanmondi\n",
            "243.6\n"
          ]
        }
      ]
    },
    {
      "cell_type": "code",
      "source": [
        "#Classwork (1 to 6)\n",
        "#Task 3\n",
        "def replace_domain(email,new_domain,old_domain = \"kaaj.com\"):\n",
        "\n",
        "  name_domain = email.split(\"@\")\n",
        "  name = name_domain[0]\n",
        "  domain = name_domain[1]\n",
        "  temp = \"\"\n",
        "  if name_domain[1] != new_domain :\n",
        "    temp = \"Changed: \"+ name + \"@\" + new_domain\n",
        "    print(temp)\n",
        "  else:\n",
        "    temp = \"Unhanged: \" +  name + \"@\" + new_domain\n",
        "    print(temp)\n",
        "replace_domain(\"alice@sheba.xyz\",\"sheba.xyx\",\"kaaj.com\")\n"
      ],
      "metadata": {
        "colab": {
          "base_uri": "https://localhost:8080/"
        },
        "id": "ET3KoeZ-xSjE",
        "outputId": "39220b58-ff22-45bc-ab92-fb7de5e692a9"
      },
      "execution_count": null,
      "outputs": [
        {
          "output_type": "stream",
          "name": "stdout",
          "text": [
            "Changed: alice@sheba.xyx\n"
          ]
        }
      ]
    },
    {
      "cell_type": "code",
      "source": [
        "#Classwork (1 to 6)\n",
        "#Task 4\n",
        "print(\"Checks whether a given string is a palindrome or not.\")\n",
        "def Palindrome(a):\n",
        "  a=a.lower()\n",
        "  temp = \"\"\n",
        "  for i in a :\n",
        "    if i != \" \" :\n",
        "      temp += i\n",
        "  i=0\n",
        "  j=len(temp)-1\n",
        "  while i<=j:\n",
        "    if temp[i]!=temp[j]:\n",
        "      b=\"Not a Palindrome\"\n",
        "      break\n",
        "    else:\n",
        "      b=\"Palindrome\"\n",
        "    i+=1\n",
        "    j-=1\n",
        "  print(b)\n",
        "Palindrome(a=input(\"Enter the string :\"))"
      ],
      "metadata": {
        "id": "EbsTXuPjamsc"
      },
      "execution_count": null,
      "outputs": []
    },
    {
      "cell_type": "code",
      "source": [
        "#Classwork (1 to 6)\n",
        "#Task 5\n",
        "def year_month_day(time):\n",
        "  year = time / 365\n",
        "  month = (time % 365) / 30\n",
        "  day  = ((time % 365) % 30)\n",
        "  print(f\"{int(year)}years, {int(month)}months,{int(day)}days\")\n",
        "year_month_day(4000)"
      ],
      "metadata": {
        "colab": {
          "base_uri": "https://localhost:8080/"
        },
        "id": "oO-5nzJj77w6",
        "outputId": "dc97ee98-3be3-4db9-8a6b-0ec234e501e3"
      },
      "execution_count": null,
      "outputs": [
        {
          "output_type": "stream",
          "name": "stdout",
          "text": [
            "10years, 11months,20days\n"
          ]
        }
      ]
    },
    {
      "cell_type": "code",
      "source": [
        "#Classwork (1 to 6)\n",
        "#Task 6\n",
        "def herry(c):\n",
        "  b=''\n",
        "  for i in range(len(c)):\n",
        "    if i==0:\n",
        "      b+=c[i].upper()\n",
        "    elif i==1:\n",
        "      b+=c[i].lower()\n",
        "    elif c[i-2]==\".\" or c[i-2] ==\"?\":\n",
        "       b+=c[(i)].upper()\n",
        "    elif c[i] == \"i\":\n",
        "      if c[i-1] == \" \" and c[i+1] == \" \":\n",
        "        b+=c[i].upper()\n",
        "      else:\n",
        "        b+=c[i]\n",
        "    else:\n",
        "       b+=c[i]\n",
        "  print(b)\n",
        "herry('my favourite animal is a dog. a dog has sharp teeth so that it can eat flesh very easily. do you know my pet dog’s name? i love my pet very much.')"
      ],
      "metadata": {
        "colab": {
          "base_uri": "https://localhost:8080/"
        },
        "id": "eE4C1qxmavWZ",
        "outputId": "ac45b5a8-5bc1-4797-affd-de5c81303521"
      },
      "execution_count": null,
      "outputs": [
        {
          "output_type": "stream",
          "name": "stdout",
          "text": [
            "My favourite animal is a dog. A dog has sharp teeth so that it can eat flesh very easily. Do you know my pet dog’s name? I love my pet very much.\n"
          ]
        }
      ]
    },
    {
      "cell_type": "code",
      "source": [
        "\n",
        "#Home Task 1: Hospital Fee\n",
        "def hospital_fee(**arg):\n",
        "  my_dict = {}\n",
        "  max  = 0\n",
        "  temp = \"\"\n",
        "  temp_list = []\n",
        "  for key,val in arg.items():\n",
        "    my_dict.update({key:val})\n",
        "    if val >= max :\n",
        "      max = val\n",
        "      temp_list.append(key)\n",
        "      # temp_list\n",
        "  for i in temp_list:\n",
        "    temp += \",\" + i\n",
        "  return max ,temp\n",
        "max_amount, max_payer = hospital_fee(Neymar = 1000, Dembele = 600, Reus = 500, Bale = 1000)\n",
        "print(f\"Highest fee was {max_amount} tk which was paid by {max_payer[1::]}.\")"
      ],
      "metadata": {
        "colab": {
          "base_uri": "https://localhost:8080/"
        },
        "id": "0WQpe57fyp6J",
        "outputId": "d5036cca-0dd3-440e-c5a6-5978f7c3ecce"
      },
      "execution_count": 1,
      "outputs": [
        {
          "output_type": "stream",
          "name": "stdout",
          "text": [
            "Highest fee was 1000 tk which was paid by Neymar,Bale.\n"
          ]
        }
      ]
    },
    {
      "cell_type": "code",
      "source": [
        "#Home Task 2: 007\n",
        "def is_james_bond(x):\n",
        "  our_first_zero = \"\"\n",
        "  our_second_zero = \"\"\n",
        "  our_last_seven = \"\"\n",
        "  temp = \"\"\n",
        "  for i in range  (len(x)) :\n",
        "    if x[i] == 0 :\n",
        "      our_first_zero = \"0\"\n",
        "      x = x[i+1::]\n",
        "      break\n",
        "  for i in range  (len(x)) :\n",
        "    if x[i] == 0 :\n",
        "      our_second_zero = \"0\"\n",
        "      x = x[i+1::]\n",
        "      break\n",
        "  for i in range  (len(x)) :\n",
        "    if x[i] == 7 :\n",
        "      our_last_seven = \"7\"\n",
        "      x = x[i+1::]\n",
        "      break\n",
        "  if our_first_zero + our_second_zero + our_last_seven == \"007\":\n",
        "    return True\n",
        "  else:\n",
        "    return False\n",
        "print(is_james_bond([1, 7, 2, 0, 4, 5, 0] ))"
      ],
      "metadata": {
        "colab": {
          "base_uri": "https://localhost:8080/"
        },
        "id": "WCbx7WuJnrIF",
        "outputId": "854abeaf-b289-4b2a-b9d4-8acff01b04e8"
      },
      "execution_count": 7,
      "outputs": [
        {
          "output_type": "stream",
          "name": "stdout",
          "text": [
            "False\n"
          ]
        }
      ]
    },
    {
      "cell_type": "code",
      "source": [
        "#Home Task 3: Section Assigning\n",
        "def assign_students_to_sections(*arg):\n",
        "  dict1 = {}\n",
        "  section = str(arg[0])\n",
        "  student_names = list(arg[1::])\n",
        "  for i in range (len(arg[0])):\n",
        "    student_list = []\n",
        "    for student in range(len(student_names)):\n",
        "      sum = 0\n",
        "      for chr in (student_names[student]):\n",
        "        sum += ord(chr)\n",
        "      if sum % len(section) == i :\n",
        "        student_list.append(student_names[student])\n",
        "    dict1.update({section[i]:student_list})\n",
        "  print(dict1)\n",
        "assign_students_to_sections('ABCDE', 'Alice','Bob', 'Charlie', 'David', 'Eve', 'Frank', 'Grace')"
      ],
      "metadata": {
        "colab": {
          "base_uri": "https://localhost:8080/"
        },
        "id": "FN_2gLW3nuQg",
        "outputId": "0d9ee9f5-d752-4e0a-f08a-406875647491"
      },
      "execution_count": 6,
      "outputs": [
        {
          "output_type": "stream",
          "name": "stdout",
          "text": [
            "{'A': ['Bob'], 'B': ['Charlie'], 'C': ['Grace'], 'D': ['Alice', 'David', 'Eve', 'Frank'], 'E': []}\n"
          ]
        }
      ]
    },
    {
      "cell_type": "code",
      "source": [
        "#Home Task 4: Username Generator\n",
        "def username_generator (first_name,middle_name,last_name,student_id):\n",
        "  result = \"\"\n",
        "  student_id1 = str(student_id)\n",
        "  student_id1 = student_id1[-1:-5:-1]\n",
        "  for i in range (0,3) :\n",
        "    if \"a\" <= first_name[i] <= \"z\":\n",
        "      result += chr((ord(first_name[i])-32))\n",
        "    else:\n",
        "      result += first_name[i]\n",
        "  result += middle_name\n",
        "  for k in range (-1,-4,-1):\n",
        "    result += last_name[k]\n",
        "  result += student_id1[-1::-1]\n",
        "  return result\n",
        "first_name, middle_name, last_name, student_id = input (\"First Name:\"), input(\"Middle Name:\"), input (\"Last Name:\"), int (input (\"Student ID:\"))\n",
        "print(username_generator (first_name,middle_name ,last_name, student_id))"
      ],
      "metadata": {
        "colab": {
          "base_uri": "https://localhost:8080/"
        },
        "id": "QNRx2wtjnyqG",
        "outputId": "23779813-5afc-4fc5-90ff-f32c5b6b6896"
      },
      "execution_count": 5,
      "outputs": [
        {
          "output_type": "stream",
          "name": "stdout",
          "text": [
            "First Name:Ahmmed\n",
            "Middle Name:Shahibullah\n",
            "Last Name:Shahib\n",
            "Student ID:22301025\n",
            "AHMShahibullahbih1025\n"
          ]
        }
      ]
    },
    {
      "cell_type": "code",
      "source": [
        "#Home Task 5: Key Generator\n",
        "def key_generator(*arg):\n",
        "  result = []\n",
        "  for i in arg:\n",
        "    temp = \"\"\n",
        "\n",
        "    for j in range (1,len(i)-1,1):\n",
        "      temp  +=str((ord(i[j])))\n",
        "    temp = i[0].lower() + temp + i[-1].upper()\n",
        "    result.append(temp)\n",
        "  return f\"Encrypted Keys: {result}\"\n",
        "key_list = key_generator(\"Alex\",\"Bob\", \"Trudy\")\n",
        "print(key_list)"
      ],
      "metadata": {
        "colab": {
          "base_uri": "https://localhost:8080/"
        },
        "id": "t-3tosmYn_Ua",
        "outputId": "103272ef-4b7f-442b-96bf-0d52b97d4347"
      },
      "execution_count": 3,
      "outputs": [
        {
          "output_type": "stream",
          "name": "stdout",
          "text": [
            "Encrypted Keys: ['a108101X', 'b111B', 't114117100Y']\n"
          ]
        }
      ]
    },
    {
      "cell_type": "code",
      "source": [
        "# Home Task 6: Rock-Paper-Scissor\n",
        "import random\n",
        "\n",
        "def playRockPaperScissor(rounds):\n",
        "  list1 = []\n",
        "\n",
        "  computer_wins = 0\n",
        "  player_wins   = 0\n",
        "  player_list = []\n",
        "  for i in range (rounds):\n",
        "    player = input(\"Player input :\")\n",
        "    computer =random.choice([\"rock\",\"paper\",\"scissor\"])\n",
        "    list1.append(computer)\n",
        "    print(\"Computer :\",list1[i])\n",
        "    player_list.append(player)\n",
        "    for players in player_list:\n",
        "      if ( computer == \"rock\"  and  players == \"scissor\" ) or ( computer == \"paper\"  and  players == \"rock\") or ( computer == \"scissor\" and players == \"paper\" ):\n",
        "        computer_wins += 1\n",
        "      if ( players == \"scissor\" and computer == \"paper\" ) or ( players == \"rock\" and computer == \"scissor\") or (players == \"paper\" and  computer == \"rock\"  ):\n",
        "        player_wins += 1\n",
        "  if player_wins > computer_wins :\n",
        "    print(f\"Your Score: {player_wins}\\nComputer's Score: {computer_wins}\\nYou have won the game!\")\n",
        "  elif computer_wins > player_wins :\n",
        "    print(f\"Your Score: {player_wins}\\nComputer's Score: {computer_wins}\\ncomuter have won the game!\")\n",
        "  else:\n",
        "    print(f\"Your Score: {player_wins}\\nComputer's Score: {computer_wins}\\nThe match is Tie.\")\n",
        "playRockPaperScissor(int(input()))"
      ],
      "metadata": {
        "colab": {
          "base_uri": "https://localhost:8080/"
        },
        "id": "jB9qN8bBoCfv",
        "outputId": "42772061-50d7-4560-8a96-30b98ce061b2"
      },
      "execution_count": 2,
      "outputs": [
        {
          "output_type": "stream",
          "name": "stdout",
          "text": [
            "2\n",
            "Player input :rock\n",
            "Computer : rock\n",
            "Player input :rock\n",
            "Computer : paper\n",
            "Your Score: 0\n",
            "Computer's Score: 2\n",
            "comuter have won the game!\n"
          ]
        }
      ]
    }
  ]
}
