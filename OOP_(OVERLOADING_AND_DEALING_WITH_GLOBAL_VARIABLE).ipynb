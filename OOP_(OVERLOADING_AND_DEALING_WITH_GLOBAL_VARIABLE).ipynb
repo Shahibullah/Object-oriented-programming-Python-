{
  "nbformat": 4,
  "nbformat_minor": 0,
  "metadata": {
    "colab": {
      "provenance": []
    },
    "kernelspec": {
      "name": "python3",
      "display_name": "Python 3"
    },
    "language_info": {
      "name": "python"
    }
  },
  "cells": [
    {
      "cell_type": "code",
      "execution_count": 3,
      "metadata": {
        "colab": {
          "base_uri": "https://localhost:8080/"
        },
        "id": "KMW3QAyFhcxA",
        "outputId": "dbd3e8d5-0471-4a12-9249-ae7b867e524d"
      },
      "outputs": [
        {
          "output_type": "stream",
          "name": "stdout",
          "text": [
            "Output\n",
            "Song list: This Fire Burns,Here I Am\n"
          ]
        }
      ],
      "source": [
        "#TASK 1\n",
        "class Spotify:\n",
        "  def __init__(self,*args):\n",
        "    self.music = args\n",
        "    self.songs = list(args)\n",
        "  def show_playlist(self):\n",
        "    print(\"Output\")\n",
        "    temp = \"\"\n",
        "    for i in range (1,len(self.songs)):\n",
        "      temp += self.songs[i] + \",\"\n",
        "    return f\"Song list: {temp[:-1:]}\"\n",
        "rock= Spotify(\"Heavy Metal\", \"This Fire Burns\", \"Here I Am\")\n",
        "print(rock.show_playlist())\n"
      ]
    },
    {
      "cell_type": "code",
      "source": [
        "#TASK 2 (DEAL WITH GLOBAL_VARIABLE)\n",
        "type_of_pizza = [\"Regular\", \"Hot\", \"Super Naga\"]\n",
        "class PizzaMachine:\n",
        "  def __init__(self,pizza_name = \"Regular\",inch = 6):\n",
        "    self.pizza_name = pizza_name\n",
        "    self.inch    =   inch\n",
        "\n",
        "    self.mixing_list = []\n",
        "  def customizePizza(self,toppings ,pizza_type = \"Regular\" ):\n",
        "\n",
        "    if type(toppings) == str:\n",
        "      x = f\"No toppings specified! Can't bake pizza\"\n",
        "      return x\n",
        "    elif type(toppings) == list :\n",
        "      if pizza_type in type_of_pizza :\n",
        "        x = f\"Your {self.inch}-inch {self.pizza_name} spicy {pizza_type} Pizza is ready with {','.join(toppings)} toppings. Enjoy!\"\n",
        "        return x\n",
        "      else:\n",
        "        x = f\"Sorry! Spice level not allowed. Can't bake pizza\"\n",
        "        return x\n",
        "pizza1 = PizzaMachine()\n",
        "order1 = pizza1.customizePizza([\"Cheese\", \"Pepperoni\"],\"Hot\")\n",
        "print(\"1################################# \")\n",
        "print(order1)\n",
        "print(\"2================================\")\n",
        "pizza2 = PizzaMachine(\"Vege\")\n",
        "order2 = pizza2.customizePizza(\"Super Naga\")\n",
        "print(\"3#################################\")\n",
        "print(order2)\n",
        "print(\"4================================\")\n",
        "pizza3 = PizzaMachine(\"Chicken Blast\",12)\n",
        "order3 = pizza3.customizePizza([\"Mushroom\"])\n",
        "print(\"5#################################\")\n",
        "print(order3)\n",
        "print(\"6================================\")\n",
        "pizza4 = PizzaMachine(\"Beef Bonanza\",16)\n",
        "order4 = pizza4.customizePizza([\"Cheese\",\"Beef kalabhuna\"],\"Mild\")\n",
        "print(\"7#################################\")\n",
        "print(order4)\n",
        "print(\"8================================\")"
      ],
      "metadata": {
        "colab": {
          "base_uri": "https://localhost:8080/"
        },
        "id": "nJUeqBI0hkZI",
        "outputId": "615385b7-6f58-4293-8482-1c601abb7a16"
      },
      "execution_count": 4,
      "outputs": [
        {
          "output_type": "stream",
          "name": "stdout",
          "text": [
            "1################################# \n",
            "Your 6-inch Regular spicy Hot Pizza is ready with Cheese,Pepperoni toppings. Enjoy!\n",
            "2================================\n",
            "3#################################\n",
            "No toppings specified! Can't bake pizza\n",
            "4================================\n",
            "5#################################\n",
            "Your 12-inch Chicken Blast spicy Regular Pizza is ready with Mushroom toppings. Enjoy!\n",
            "6================================\n",
            "7#################################\n",
            "Sorry! Spice level not allowed. Can't bake pizza\n",
            "8================================\n"
          ]
        }
      ]
    },
    {
      "cell_type": "code",
      "source": [
        "#TASK 3\n",
        "class CoffeeMachine:\n",
        "  def __init__(self,brand):\n",
        "    self.brand = brand\n",
        "    self.items = []\n",
        "  def insertIngredients(self,*args):\n",
        "    for i in args:\n",
        "      self.items.append(i)\n",
        "\n",
        "  def getDetails(self):\n",
        "    return (f\"Brand Name: {self.brand}\\nIngredients: {','.join(self.items)}\")\n",
        "cm1 = CoffeeMachine(\"Miyako\")\n",
        "cm1.insertIngredients(\"Coffee beans\", \"Milk\", \"Sugar\")\n",
        "print(cm1.getDetails())\n",
        "\n"
      ],
      "metadata": {
        "id": "j8iAv8yShunv",
        "colab": {
          "base_uri": "https://localhost:8080/"
        },
        "outputId": "ccaad630-c9e4-49b6-82bf-cc2d9840ee1a"
      },
      "execution_count": null,
      "outputs": [
        {
          "output_type": "stream",
          "name": "stdout",
          "text": [
            "Brand Name: Miyako\n",
            "Ingredients: Coffee beans,Milk,Sugar\n"
          ]
        }
      ]
    },
    {
      "cell_type": "code",
      "source": [
        "#TASK 4 (DEAL WITH GLOBAL_VARIABLE)\n",
        "channels = [\"0\",\"2\",\"3\",\"6\",\"7\",\"9\"]\n",
        "\n",
        "class RickMote:\n",
        "  def __init__(self, power = True ,channel = \"0\",volume = 3):\n",
        "    self.p = power\n",
        "    self.channel = channel\n",
        "    self.volume = volume\n",
        "    self.counter = 0\n",
        "    self.action = -1\n",
        "    self.off_channel = \"\"\n",
        "    self.off_volume = \"\"\n",
        "\n",
        "  def power(self):\n",
        "    self.action *= (-1)\n",
        "    if self.action > 0 :\n",
        "      self.p = \"ON\"\n",
        "    elif self.action < 0 :\n",
        "      self.p = \"OFF\"\n",
        "\n",
        "  def changeChannel(self,channel = None):\n",
        "    if self.p == \"ON\":\n",
        "      if channel == None :\n",
        "        if self.counter == 5 :\n",
        "          self.counter = 0\n",
        "          self.channel = channels[self.counter]\n",
        "        elif self.counter < 5 :\n",
        "          self.counter += 1\n",
        "          self.channel = channels[self.counter]\n",
        "      elif channel in channels :\n",
        "        self.channel = channel\n",
        "    else:\n",
        "      self.off_channel = \"Power is turned off. Cannot change channel.\"\n",
        "\n",
        "  def changeVolumeLevel(self,volume=None):\n",
        "    if self.p == \"ON\":\n",
        "      if volume == None :\n",
        "        self.volume +=1\n",
        "      else:\n",
        "        self.volume += volume\n",
        "    else:\n",
        "      self.off_volume = \"Power is turned off. Cannot change volume.\"\n",
        "\n",
        "  def showInfo(self):\n",
        "    if self.p == \"ON\":\n",
        "      print(f\"ID Cable Box Status:\\nCable Box is: {self.p}\\nChannel:{self.channel}\\nVolume:{self.volume}\")\n",
        "    else:\n",
        "      print(f\"ID Cable Box Status:\\nCable Box is: OFF\\n{self.off_volume}\\n{self.off_volume}\")\n",
        "      self.off_channel = \"\"\n",
        "      self.off_volume  = \"\"\n",
        "\n",
        "\n",
        "\n",
        "oTV = RickMote()\n",
        "oTV.power()\n",
        "print(\"1.############################\")\n",
        "oTV.showInfo()\n",
        "print(\"2.############################\")\n",
        "oTV.changeChannel()\n",
        "oTV.changeVolumeLevel()\n",
        "oTV.showInfo()\n",
        "print(\"3.############################\")\n",
        "oTV.power()\n",
        "oTV.showInfo()\n",
        "print(\"4.############################\")\n",
        "oTV.power()\n",
        "oTV.changeVolumeLevel(4)\n",
        "oTV.changeChannel(3)\n",
        "oTV.showInfo()\n",
        "print(\"5.############################\")\n",
        "oTV.changeVolumeLevel(-2)\n",
        "oTV.showInfo()\n",
        "print(\"6.############################\")\n",
        "oTV.power()\n",
        "oTV.changeChannel(9)\n",
        "oTV.changeVolumeLevel(-1)\n",
        "oTV.showInfo()\n",
        "print(\"7.############################\")\n",
        "oTV.power()\n",
        "oTV.changeChannel(11)\n",
        "oTV.showInfo()\n"
      ],
      "metadata": {
        "id": "gP7rZEsvh1tX",
        "colab": {
          "base_uri": "https://localhost:8080/"
        },
        "outputId": "64933510-4abd-4d10-df90-3aba8a891862"
      },
      "execution_count": 1,
      "outputs": [
        {
          "output_type": "stream",
          "name": "stdout",
          "text": [
            "1.############################\n",
            "ID Cable Box Status:\n",
            "Cable Box is: ON\n",
            "Channel:0\n",
            "Volume:3\n",
            "2.############################\n",
            "ID Cable Box Status:\n",
            "Cable Box is: ON\n",
            "Channel:2\n",
            "Volume:4\n",
            "3.############################\n",
            "ID Cable Box Status:\n",
            "Cable Box is: OFF\n",
            "\n",
            "\n",
            "4.############################\n",
            "ID Cable Box Status:\n",
            "Cable Box is: ON\n",
            "Channel:2\n",
            "Volume:8\n",
            "5.############################\n",
            "ID Cable Box Status:\n",
            "Cable Box is: ON\n",
            "Channel:2\n",
            "Volume:6\n",
            "6.############################\n",
            "ID Cable Box Status:\n",
            "Cable Box is: OFF\n",
            "Power is turned off. Cannot change volume.\n",
            "Power is turned off. Cannot change volume.\n",
            "7.############################\n",
            "ID Cable Box Status:\n",
            "Cable Box is: ON\n",
            "Channel:2\n",
            "Volume:6\n"
          ]
        }
      ]
    },
    {
      "cell_type": "code",
      "source": [
        "#TASK 5 (OVERLOADING)\n",
        "import math\n",
        "class Sphere:\n",
        "  def __init__(self,name,radius = 1,color = \"White\"):\n",
        "    self.name = name\n",
        "    self.radius = radius\n",
        "    self.color = color\n",
        "    self.volume = (4/3)*math.pi*((self.radius)**3)\n",
        "    self.total_volume = 0\n",
        "  def merge_sphere(self,*sphere):\n",
        "    print(\"Spheres are being merged\")\n",
        "    flg = True\n",
        "    for i in range (len(sphere)) :\n",
        "      self.volume += sphere[i].volume\n",
        "      if self.color != \"White\":\n",
        "        flg = False\n",
        "        self.color = \"Mixed\"\n",
        "  def printDetails(self):\n",
        "    print(f\"Sphere ID: {self.name}\\nColor: {self.color}\\nVolume: {self.volume}\")\n",
        "sphere1 = Sphere(\"Sphere 1\")\n",
        "print(\"1***************\")\n",
        "sphere1.printDetails()\n",
        "print(\"2***************\")\n",
        "sphere2 = Sphere(\"Sphere 2\", 3)\n",
        "print(\"3***************\")\n",
        "sphere2.printDetails()\n",
        "print(\"4***************\")\n",
        "sphere3 = Sphere(\"Sphere 3\", 2)\n",
        "print(\"5***************\")\n",
        "sphere3.printDetails()\n",
        "print(\"6***************\")\n",
        "sphere3.merge_sphere(sphere1,sphere2)\n",
        "print(\"7***************\")\n",
        "sphere3.printDetails()\n",
        "print(\"8***************\")\n",
        "sphere4 = Sphere(\"Sphere 4\", 5, \"Purple\")\n",
        "print(\"9***************\")\n",
        "sphere4.merge_sphere(sphere3)\n",
        "print(\"10***************\")\n",
        "sphere4.printDetails()"
      ],
      "metadata": {
        "id": "q0CmBki1b4_j",
        "colab": {
          "base_uri": "https://localhost:8080/"
        },
        "outputId": "8a6b739f-e4ff-40ea-c888-e16ba4c3be75"
      },
      "execution_count": 2,
      "outputs": [
        {
          "output_type": "stream",
          "name": "stdout",
          "text": [
            "1***************\n",
            "Sphere ID: Sphere 1\n",
            "Color: White\n",
            "Volume: 4.1887902047863905\n",
            "2***************\n",
            "3***************\n",
            "Sphere ID: Sphere 2\n",
            "Color: White\n",
            "Volume: 113.09733552923254\n",
            "4***************\n",
            "5***************\n",
            "Sphere ID: Sphere 3\n",
            "Color: White\n",
            "Volume: 33.510321638291124\n",
            "6***************\n",
            "Spheres are being merged\n",
            "7***************\n",
            "Sphere ID: Sphere 3\n",
            "Color: White\n",
            "Volume: 150.79644737231007\n",
            "8***************\n",
            "9***************\n",
            "Spheres are being merged\n",
            "10***************\n",
            "Sphere ID: Sphere 4\n",
            "Color: Mixed\n",
            "Volume: 674.395222970609\n"
          ]
        }
      ]
    }
  ]
}