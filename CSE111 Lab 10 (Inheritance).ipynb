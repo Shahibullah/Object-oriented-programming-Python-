{
  "nbformat": 4,
  "nbformat_minor": 0,
  "metadata": {
    "colab": {
      "provenance": []
    },
    "kernelspec": {
      "name": "python3",
      "display_name": "Python 3"
    },
    "language_info": {
      "name": "python"
    }
  },
  "cells": [
    {
      "cell_type": "code",
      "execution_count": null,
      "metadata": {
        "colab": {
          "base_uri": "https://localhost:8080/"
        },
        "id": "TqnUoxvE660S",
        "outputId": "60bad621-da2b-46a4-a265-88762c686eca"
      },
      "outputs": [
        {
          "output_type": "stream",
          "name": "stdout",
          "text": [
            "Name: default Department: BBA\n",
            "Name: Humpty Dumpty Department: BBA\n",
            "Name: Little Bo Peep Department: BBA\n"
          ]
        }
      ],
      "source": [
        "# Classwork Task - 1\n",
        "class Student:\n",
        "    def __init__(self, name='Just a student', dept='nothing'):\n",
        "        self.__name = name\n",
        "        self.__department = dept\n",
        "    def set_department(self, dept):\n",
        "        self.__department = dept\n",
        "    def get_name(self):\n",
        "        return self.__name\n",
        "    def set_name(self,name):\n",
        "        self.__name = name\n",
        "    def detail(self):\n",
        "        return 'Name: '+self.__name+' Department: '+self.__department\n",
        "\n",
        "\n",
        "#write your code here\n",
        "class BBA_Student(Student):\n",
        "  def __init__(self,name = \"default\",dept= \"BBA\"):\n",
        "    super().__init__(name,dept)\n",
        "\n",
        "print(BBA_Student().detail())\n",
        "print(BBA_Student('Humpty Dumpty').detail())\n",
        "print(BBA_Student('Little Bo Peep').detail())"
      ]
    },
    {
      "cell_type": "code",
      "source": [
        " # Classwork Task - 2\n",
        "class Vehicle:\n",
        "    def __init__(self):\n",
        "        self.x = 0\n",
        "        self.y = 0\n",
        "\n",
        "    def moveUp(self):\n",
        "        self.y += 1\n",
        "\n",
        "    def moveDown(self):\n",
        "        self.y -= 1\n",
        "\n",
        "    def moveRight(self):\n",
        "        self.x += 1\n",
        "\n",
        "    def moveLeft(self):\n",
        "        self.x -= 1\n",
        "\n",
        "    def detail(self):\n",
        "        return '(' + str(self.x) + ', ' + str(self.y) + ')'\n",
        "\n",
        "class Vehicle2010(Vehicle):\n",
        "    def moveLowerLeft(self):\n",
        "        super().moveDown()\n",
        "        super().moveLeft()\n",
        "\n",
        "    def equals(self, new_car):\n",
        "        return self.x == new_car.x and self.y == new_car.y\n",
        "\n",
        "\n",
        "print('Part 1')\n",
        "print('------')\n",
        "car = Vehicle()\n",
        "print(car.detail())\n",
        "car.moveUp()\n",
        "print(car.detail())\n",
        "car.moveLeft()\n",
        "print(car.detail())\n",
        "car.moveDown()\n",
        "print(car.detail())\n",
        "car.moveRight()\n",
        "print(car.detail())\n",
        "print('------')\n",
        "print('Part 2')\n",
        "print('------')\n",
        "car1 = Vehicle2010()\n",
        "print(car1.detail())\n",
        "car1.moveLowerLeft()\n",
        "print(car1.detail())\n",
        "car2 = Vehicle2010()\n",
        "car2.moveLeft()\n",
        "print(car1.equals(car2))\n",
        "car2.moveDown()\n",
        "print(car1.equals(car2))\n"
      ],
      "metadata": {
        "colab": {
          "base_uri": "https://localhost:8080/"
        },
        "id": "p9XJQxQvpURd",
        "outputId": "c2d192d1-59b0-43a3-fc93-6e615fc30096"
      },
      "execution_count": null,
      "outputs": [
        {
          "output_type": "stream",
          "name": "stdout",
          "text": [
            "Part 1\n",
            "------\n",
            "(0, 0)\n",
            "(0, 1)\n",
            "(-1, 1)\n",
            "(-1, 0)\n",
            "(0, 0)\n",
            "------\n",
            "Part 2\n",
            "------\n",
            "(0, 0)\n",
            "(-1, -1)\n",
            "False\n",
            "True\n"
          ]
        }
      ]
    },
    {
      "cell_type": "code",
      "source": [
        "#Classwork Task - 3\n",
        "class Tournament:\n",
        "    def __init__(self,name='Default'):\n",
        "        self.__name = name\n",
        "    def set_name(self,name):\n",
        "        self.__name = name\n",
        "    def get_name(self):\n",
        "        return self.__name\n",
        "\n",
        "#write your code here\n",
        "class Cricket_Tournament(Tournament):\n",
        "  def __init__(self,name = \"Default\",number_of_team = 0 ,xtype = \"No type\" ):\n",
        "    super().__init__(name)\n",
        "    self.number_of_team = number_of_team\n",
        "    self.xtype = xtype\n",
        "\n",
        "  def detail(self):\n",
        "    return f\"Cricket Tournament Name:  {super().get_name()} \\nNumber of Teams:{self.number_of_team} \\nType: {self.xtype}\"\n",
        "class Tennis_Tournament(Tournament):\n",
        "  def __init__(self,name=\"Default\",number_of_team = 0 ):\n",
        "    super().__init__(name)\n",
        "    self.number_of_team = number_of_team\n",
        "\n",
        "\n",
        "  def detail(self):\n",
        "    return f\"Tennis Tournament Name:  {super().get_name()} \\nNumber of Teams:{self.number_of_team} \"\n",
        "ct1 = Cricket_Tournament()\n",
        "print(ct1.detail())\n",
        "print(\"-----------------------\")\n",
        "ct2 = Cricket_Tournament(\"IPL\",10,\"t20\")\n",
        "print(ct2.detail())\n",
        "print(\"-----------------------\")\n",
        "tt = Tennis_Tournament(\"Roland Garros\",128)\n",
        "print(tt.detail())"
      ],
      "metadata": {
        "colab": {
          "base_uri": "https://localhost:8080/"
        },
        "id": "YGZ9jC9mruN3",
        "outputId": "affb42e8-307e-469f-fdd0-38ff0ebbf220"
      },
      "execution_count": null,
      "outputs": [
        {
          "output_type": "stream",
          "name": "stdout",
          "text": [
            "Cricket Tournament Name:  Default \n",
            "Number of Teams:0 \n",
            "Type: No type\n",
            "-----------------------\n",
            "Cricket Tournament Name:  IPL \n",
            "Number of Teams:10 \n",
            "Type: t20\n",
            "-----------------------\n",
            "Tennis Tournament Name:  Roland Garros \n",
            "Number of Teams:128 \n"
          ]
        }
      ]
    },
    {
      "cell_type": "code",
      "source": [
        "#Classwork Task - 4\n",
        "class Product:\n",
        "    def __init__(self,id, title, price):\n",
        "        self.__id = id\n",
        "        self.__title = title\n",
        "        self.__price = price\n",
        "    def get_id_title_price(self):\n",
        "        return \"ID: \"+str(self.__id)+\" Title:\"+self.__title+\"Price: \"+str(self.__price)\n",
        "#write your code here\n",
        "class Book( Product):\n",
        "  def __init__(self, ID, Title, Price, ISBN, Publisher):\n",
        "    self.ISBN = ISBN\n",
        "    self.Publisher = Publisher\n",
        "    super().__init__(ID, Title, Price)\n",
        "  def printDetail(self):\n",
        "    return f\"ID: {super().get_id_title_price()} ISBN: {self.ISBN} Publisher: {self.Publisher}\"\n",
        "class CD(Product):\n",
        "  def __init__(self, ID, Title, Price, Band, Duration, Genre):\n",
        "    self.Band = Band\n",
        "    self.Duration = Duration\n",
        "    self.Genre = Genre\n",
        "    super().__init__(ID, Title, Price)\n",
        "\n",
        "  def printDetail(self):\n",
        "    return f\"ID: {super().get_id_title_price()} \\nBand: {self.Band} Duration: {self.Duration} minutes Genre: {self.Genre}\"\n",
        "\n",
        "book = Book(1,\"The Alchemist\",500,\"97806\",\"HarperCollins\")\n",
        "print(book.printDetail())\n",
        "print(\"-----------------------\")\n",
        "cd = CD(2,\"Shotto\",300,\"Warfaze\",50,\"Hard Rock\")\n",
        "print(cd.printDetail())"
      ],
      "metadata": {
        "colab": {
          "base_uri": "https://localhost:8080/"
        },
        "id": "mHUbR_ATxjKA",
        "outputId": "e68a6802-270d-49e2-d878-a885661e4983"
      },
      "execution_count": null,
      "outputs": [
        {
          "output_type": "stream",
          "name": "stdout",
          "text": [
            "ID: ID: 1 Title:The AlchemistPrice: 500 ISBN: 97806 Publisher: HarperCollins\n",
            "-----------------------\n",
            "ID: ID: 2 Title:ShottoPrice: 300 \n",
            "Band: Warfaze Duration: 50 minutes Genre: Hard Rock\n"
          ]
        }
      ]
    },
    {
      "cell_type": "code",
      "source": [
        "#Single Inheritance , Method overriding  and (Calling Super-Class & Super().__init__) in Python\n",
        "class Human:    #Our Super-Class\n",
        "  def __init__(self,number_leg):\n",
        "    self.number_leg = number_leg\n",
        "    self.number_of_eyes = 2\n",
        "    self.number_of_nose = 1\n",
        "  def eat(self):\n",
        "    print(\"I can eat .\")\n",
        "  def work(self):\n",
        "    print(\"I can work .\")\n",
        "class Male(Human):\n",
        "  def __init__(self,name,num_of_leg):\n",
        "    self.name = name\n",
        "    super().__init__(num_of_leg)\n",
        "  def work(self): #Method over-riding\n",
        "    #print(\"I can Code\")\n",
        "    super().work() #Calling Super-Class\n",
        "male_1 = Male(\"Bob\",2)\n",
        "male_1.work()\n",
        "print(male_1.name,\"has number of eyes \",male_1.number_of_eyes)\n",
        "print(male_1.name,\"has number of Leg \",male_1.number_leg)"
      ],
      "metadata": {
        "colab": {
          "base_uri": "https://localhost:8080/"
        },
        "id": "EJwt7P-V4yam",
        "outputId": "c42cf185-b237-4ccd-c5ed-c790ffac881a"
      },
      "execution_count": null,
      "outputs": [
        {
          "output_type": "stream",
          "name": "stdout",
          "text": [
            "I can work .\n",
            "Bob has number of eyes  2\n",
            "Bob has number of Leg  2\n"
          ]
        }
      ]
    },
    {
      "cell_type": "code",
      "source": [
        "#Classwork Task - 5\n",
        "class Animal:\n",
        "    def __init__(self,sound):\n",
        "        self.__sound = sound\n",
        "    def makeSound(self):\n",
        "        return self.__sound\n",
        "class Printer:\n",
        "    def printSound(self, a):\n",
        "        print(a.makeSound())\n",
        "#write your code here\n",
        "class Dog(Animal):\n",
        "  pass\n",
        "class Cat(Animal):\n",
        "  pass\n",
        "a1 = Animal('Animal does not make sound')\n",
        "c1 = Cat('meow')\n",
        "d1 = Dog('bark')\n",
        "pr = Printer()\n",
        "pr.printSound(a1)\n",
        "pr.printSound(c1)\n",
        "pr.printSound(d1)"
      ],
      "metadata": {
        "colab": {
          "base_uri": "https://localhost:8080/"
        },
        "id": "wGegbLKF_1TV",
        "outputId": "600c9c4f-d263-44ed-b266-e0231cc555fc"
      },
      "execution_count": null,
      "outputs": [
        {
          "output_type": "stream",
          "name": "stdout",
          "text": [
            "Animal does not make sound\n",
            "meow\n",
            "bark\n"
          ]
        }
      ]
    },
    {
      "cell_type": "code",
      "source": [
        "#Homework Task 1\n",
        "class Shape:\n",
        "\n",
        "  def __init__(self, name='Default', height=0, base=0):\n",
        "    self.area = 0\n",
        "    self.name = name\n",
        "    self.height = height\n",
        "    self.base = base\n",
        "\n",
        "  def get_height_base(self):\n",
        "    return \"Height: \"+str(self.height)+\", Base: \"+str(self.base)\n",
        "\n",
        "#write your code here\n",
        "class triangle(Shape):\n",
        "  def __init__(self,name = 'Default',Height = 0,Base = 0):\n",
        "    self.name = name\n",
        "    self.Height = Height\n",
        "    self.Base = Base\n",
        "    super().__init__(name,Height,Base)\n",
        "  def calcArea(self):\n",
        "    self.area =  (0.5*self.Height*self.Base)\n",
        "\n",
        "  def printDetail(self):\n",
        "    return f\"Shape name: {self.name}\\n{super().get_height_base()}\\nArea: {self.area}\"\n",
        "class trapezoid(Shape):\n",
        "  def __init__(self,name ,Height , Base , Side_A ):\n",
        "    self.name, self.Height, self.Base, self.Side_A = name ,Height , Base , Side_A\n",
        "    super().__init__(name ,Height , Base)\n",
        "  def calcArea(self):\n",
        "    self.area = (0.5*(self.Side_A+self.Base)*self.Height)\n",
        "  def printDetail(self):\n",
        "    return f\"Shape name: {self.name}\\n{super().get_height_base()}, Side_A: {self.Side_A}\\nArea: {self.area}\"\n",
        "tri_default = triangle()\n",
        "tri_default.calcArea()\n",
        "print(tri_default.printDetail())\n",
        "print('--------------------------')\n",
        "tri = triangle('Triangle', 10, 5)\n",
        "tri.calcArea()\n",
        "print(tri.printDetail())\n",
        "print('---------------------------')\n",
        "trap = trapezoid('Trapezoid', 10, 6, 4)\n",
        "trap.calcArea()\n",
        "print(trap.printDetail())"
      ],
      "metadata": {
        "colab": {
          "base_uri": "https://localhost:8080/"
        },
        "id": "XQntP_LQDpKE",
        "outputId": "51ec4dd3-1fea-4e91-a663-4fdaa0feeb8a"
      },
      "execution_count": null,
      "outputs": [
        {
          "output_type": "stream",
          "name": "stdout",
          "text": [
            "Shape name: Default\n",
            "Height: 0, Base: 0\n",
            "Area: 0.0\n",
            "--------------------------\n",
            "Shape name: Triangle\n",
            "Height: 10, Base: 5\n",
            "Area: 25.0\n",
            "---------------------------\n",
            "Shape name: Trapezoid\n",
            "Height: 10, Base: 6, Side_A: 4\n",
            "Area: 50.0\n"
          ]
        }
      ]
    },
    {
      "cell_type": "code",
      "source": [
        "#Homework Task 2\n",
        "class SportsPerson:\n",
        "\n",
        "  def __init__(self, team_name, name, role):\n",
        "    self.__team = team_name\n",
        "    self.__name = name\n",
        "    self.role = role\n",
        "    self.earning_per_match = 0 #<----- ai line ar Kaj  ki\n",
        "\n",
        "  def get_name_team(self):\n",
        "    return 'Name: '+self.__name+', Team Name: ' +self.__team\n",
        "\n",
        "#write your code here\n",
        "class Player (SportsPerson):\n",
        "  def __init__(self, TN, N, TR, TG, TP):\n",
        "    self.TN, self.N, self.TR, self.TG, self.TP = TN, N, TR, TG, TP\n",
        "    super().__init__(TN, N, TR )\n",
        "    self.EPM = (self.TG*1000)+(self.TP*10)\n",
        "  def calculate_ratio(self):\n",
        "    self.ratio = (self.TG / self.TP)\n",
        "  def print_details(self):\n",
        "    print (f\"{super().get_name_team()}\\nTeam Role: {self.TR}\\nTotal Goal: {self.TG}, Total Played: {self.TP}\\nGoal Ratio: {self.ratio}\\nMatch Earning: {self.EPM}k\")\n",
        "class Manager(SportsPerson):\n",
        "  def __init__(self, TN, N, TR,TW):\n",
        "    self.TN, self.N, self.TR,self.TW = TN, N, TR, TW\n",
        "    super().__init__(TN, N, TR )\n",
        "    self.E = self.TW * 1000\n",
        "  def print_details(self):\n",
        "    print (f\"{super().get_name_team()}\\nTeam Role: {self.TR}\\nTotal Win: {self.TW }\\nMatch Earning: {self.E}k\")\n",
        "\n",
        "player_one = Player('Al-Nassr', 'Ronaldo', 'Striker', 25, 32)\n",
        "player_one.calculate_ratio()\n",
        "player_one.print_details()\n",
        "print('------------------------------------------')\n",
        "manager_one = Manager('Real Madrid', 'Zidane', 'Manager', 25)\n",
        "manager_one.print_details()"
      ],
      "metadata": {
        "colab": {
          "base_uri": "https://localhost:8080/"
        },
        "id": "XjKFFAUngMV8",
        "outputId": "ee2fb468-fdf3-4207-a333-640e0b3b79eb"
      },
      "execution_count": null,
      "outputs": [
        {
          "output_type": "stream",
          "name": "stdout",
          "text": [
            "Name: Ronaldo, Team Name: Al-Nassr\n",
            "Team Role: Striker\n",
            "Total Goal: 25, Total Played: 32\n",
            "Goal Ratio: 0.78125\n",
            "Match Earning: 25320k\n",
            "------------------------------------------\n",
            "Name: Zidane, Team Name: Real Madrid\n",
            "Team Role: Manager\n",
            "Total Win: 25\n",
            "Match Earning: 25000k\n"
          ]
        }
      ]
    },
    {
      "cell_type": "code",
      "source": [
        "#Homework Task 3\n",
        "class KK_tea:\n",
        "    dic = {\"KK Regular Tea\": 0}\n",
        "\n",
        "    def __init__(self, p, b=50):\n",
        "        self.name = \"KK Regular Tea\"\n",
        "        self.price = p\n",
        "        self.bag = b\n",
        "        self.status = False\n",
        "\n",
        "    def product_detail(self):\n",
        "        print(f\"Name: {self.name}, Weight: {self.bag * 2}\\nTea Bags: {self.bag}, Price: {self.price}\\nStatus: {self.status}\")\n",
        "\n",
        "    @classmethod\n",
        "    def update_sold_status_regular(cls, *args):\n",
        "        for i in args:\n",
        "            i.status = True\n",
        "            if i.name not in KK_tea.dic:\n",
        "                KK_tea.dic[i.name] = 1\n",
        "            else:\n",
        "                KK_tea.dic[i.name] += 1\n",
        "\n",
        "    @classmethod\n",
        "    def total_sales(cls):\n",
        "        print(f\"Total sales: {KK_tea.dic}\")\n",
        "\n",
        "\n",
        "class KK_flavoured_tea(KK_tea):\n",
        "    def __init__(self, name, price, bag):\n",
        "        super().__init__(price, bag)\n",
        "        self.name = name\n",
        "\n",
        "    @classmethod\n",
        "    def update_sold_status_flavoured(cls, *args):\n",
        "        super().update_sold_status_regular(*args)\n",
        "\n",
        "\n",
        "t1 = KK_tea(250)\n",
        "print(\"-----------------1-----------------\")\n",
        "t1.product_detail()\n",
        "print(\"-----------------2-----------------\")\n",
        "KK_tea.total_sales()\n",
        "print(\"-----------------3-----------------\")\n",
        "t2 = KK_tea(470, 100)\n",
        "t3 = KK_tea(360, 75)\n",
        "KK_tea.update_sold_status_regular(t1, t2, t3)\n",
        "print(\"-----------------4-----------------\")\n",
        "t3.product_detail()\n",
        "print(\"-----------------5-----------------\")\n",
        "KK_tea.total_sales()\n",
        "print(\"-----------------6-----------------\")\n",
        "t4 = KK_flavoured_tea(\"Jasmine\", 260, 50)\n",
        "t5 = KK_flavoured_tea(\"Honey Lemon\", 270, 45)\n",
        "t6 = KK_flavoured_tea(\"Honey Lemon\", 270, 45)\n",
        "print(\"-----------------7-----------------\")\n",
        "t4.product_detail()\n",
        "print(\"-----------------8-----------------\")\n",
        "t6.product_detail()\n",
        "print(\"-----------------9-----------------\")\n",
        "KK_flavoured_tea.update_sold_status_flavoured(t4, t5, t6)\n",
        "print(\"-----------------10-----------------\")\n",
        "KK_tea.total_sales()\n"
      ],
      "metadata": {
        "id": "NNFTktPkylDW",
        "colab": {
          "base_uri": "https://localhost:8080/"
        },
        "outputId": "61868a2d-bedc-46ec-ccbc-716a0b9b851e"
      },
      "execution_count": null,
      "outputs": [
        {
          "output_type": "stream",
          "name": "stdout",
          "text": [
            "-----------------1-----------------\n",
            "Name: KK Regular Tea, Weight: 100\n",
            "Tea Bags: 50, Price: 250\n",
            "Status: False\n",
            "-----------------2-----------------\n",
            "Total sales: {'KK Regular Tea': 0}\n",
            "-----------------3-----------------\n",
            "-----------------4-----------------\n",
            "Name: KK Regular Tea, Weight: 150\n",
            "Tea Bags: 75, Price: 360\n",
            "Status: True\n",
            "-----------------5-----------------\n",
            "Total sales: {'KK Regular Tea': 3}\n",
            "-----------------6-----------------\n",
            "-----------------7-----------------\n",
            "Name: Jasmine, Weight: 100\n",
            "Tea Bags: 50, Price: 260\n",
            "Status: False\n",
            "-----------------8-----------------\n",
            "Name: Honey Lemon, Weight: 90\n",
            "Tea Bags: 45, Price: 270\n",
            "Status: False\n",
            "-----------------9-----------------\n",
            "-----------------10-----------------\n",
            "Total sales: {'KK Regular Tea': 3, 'Jasmine': 1, 'Honey Lemon': 2}\n"
          ]
        }
      ]
    },
    {
      "cell_type": "code",
      "source": [
        "#Homework Task 4\n",
        "class TwoDVector:\n",
        "    def __init__(self, x, y):\n",
        "        self.x = x\n",
        "        self.y = y\n",
        "\n",
        "    def add2DVectors(self, *vectors):\n",
        "        for i in vectors:\n",
        "            self.x += i.x\n",
        "            self.y += i.y\n",
        "\n",
        "    def print2DVector(self):\n",
        "        if self.y >= 0:\n",
        "            y = \"+ \" + str(self.y)\n",
        "        else:\n",
        "            y = str(self.y)\n",
        "        print(f\"{self.x}i {y}j\")\n",
        "\n",
        "\n",
        "class ThreeDVector(TwoDVector):\n",
        "    def __init__(self, x, y, z):\n",
        "        super().__init__(x, y)\n",
        "        self.z = z\n",
        "\n",
        "    def add3DVectors(self, *vectors):\n",
        "        super().add2DVectors(*vectors)\n",
        "        for i in vectors:\n",
        "            self.z += i.z\n",
        "\n",
        "    def multiplyScalar(self, a):\n",
        "        self.x *= a\n",
        "        self.y *= a\n",
        "        self.z *= a\n",
        "\n",
        "    def calculateLength(self):\n",
        "        length = (self.x ** 2 + self.y ** 2 + self.z ** 2) ** 0.5\n",
        "        return length\n",
        "\n",
        "    def print3DVector(self):\n",
        "        if self.y > 0 and self.z > 0:\n",
        "            y_and_z = \"+ \" + str(self.y) + \"j\" + \" + \" + str(abs(self.z))\n",
        "        elif self.y < 0 and self.z > 0:\n",
        "            y_and_z = \"- \" + str(self.y) + \"j\" + \" + \" + str(abs(self.z))\n",
        "        elif self.y > 0 and self.z < 0:\n",
        "            y_and_z = \"+ \" + str(self.y) + \"j\" + \" - \" + str(abs(self.z))\n",
        "        elif self.y < 0 and self.z < 0:\n",
        "            y_and_z = \"- \" + str(self.y) + \"j\" + \" - \" + str(abs(self.z))\n",
        "        print(f\"{self.x}i {y_and_z}k\")\n",
        "\n",
        "\n",
        "TwoDV1 = TwoDVector(5, 6)\n",
        "TwoDV2 = TwoDVector(3, 7)\n",
        "TwoDV3 = TwoDVector(1, 8)\n",
        "print(\"===============\")\n",
        "TwoDV1.add2DVectors(TwoDV2, TwoDV3)\n",
        "TwoDV1.print2DVector()\n",
        "print(\"===============\")\n",
        "ThreeDV1 = ThreeDVector(5, 6, 1)\n",
        "ThreeDV2 = ThreeDVector(1, 9, -7)\n",
        "ThreeDV3 = ThreeDVector(8, 2, 4)\n",
        "print(\"===============\")\n",
        "ThreeDV1.add3DVectors(ThreeDV2, ThreeDV3)\n",
        "ThreeDV1.print3DVector()\n",
        "print(\"===============\")\n",
        "ThreeDV1.multiplyScalar(3)\n",
        "ThreeDV1.print3DVector()\n",
        "print(\"===============\")\n",
        "print(ThreeDV1.calculateLength())\n"
      ],
      "metadata": {
        "id": "fg0zELyxz8fz",
        "colab": {
          "base_uri": "https://localhost:8080/"
        },
        "outputId": "4b8648d1-56a3-4510-aac3-7933cce3e6be"
      },
      "execution_count": null,
      "outputs": [
        {
          "output_type": "stream",
          "name": "stdout",
          "text": [
            "===============\n",
            "9i + 21j\n",
            "===============\n",
            "===============\n",
            "14i + 17j - 2k\n",
            "===============\n",
            "42i + 51j - 6k\n",
            "===============\n",
            "66.34003316248794\n"
          ]
        }
      ]
    }
  ]
}
