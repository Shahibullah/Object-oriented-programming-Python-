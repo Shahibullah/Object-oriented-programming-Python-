{
  "nbformat": 4,
  "nbformat_minor": 0,
  "metadata": {
    "colab": {
      "provenance": []
    },
    "kernelspec": {
      "name": "python3",
      "display_name": "Python 3"
    },
    "language_info": {
      "name": "python"
    }
  },
  "cells": [
    {
      "cell_type": "markdown",
      "source": [
        "**List**"
      ],
      "metadata": {
        "id": "ZYigl0V_sqe_"
      }
    },
    {
      "cell_type": "code",
      "execution_count": null,
      "metadata": {
        "id": "a0UQ0o6BKY5p"
      },
      "outputs": [],
      "source": [
        "#Task 1\n",
        "all_list     = []\n",
        "uniq_list    = []\n",
        "counter_list = []\n",
        "while True :\n",
        "  x = input()\n",
        "  if x == \"Stop\":\n",
        "    break\n",
        "  elif type(int(x)) == int:\n",
        "    all_list.append(int(x))\n",
        "  else:\n",
        "    pass\n",
        "for i in all_list:\n",
        "  if i not in uniq_list:\n",
        "    uniq_list.append(i)\n",
        "\n",
        "counter_list = []\n",
        "count        = 0\n",
        "for i in uniq_list:\n",
        "  for j in all_list:\n",
        "    if i == j :\n",
        "      count += 1\n",
        "      continue\n",
        "  counter_list.append(count)\n",
        "  count = 0\n",
        "\n",
        "for c in range (len(counter_list)):\n",
        "  print(f\"{uniq_list[c]} - {counter_list[c]} times\")"
      ]
    },
    {
      "cell_type": "code",
      "source": [
        "a = [[1,2,3],[3,4,5]]\n",
        "\n",
        "sum = 0\n",
        "max = 0\n",
        "temp = \"\"\n",
        "for i in a :\n",
        "  for j in i :\n",
        "    sum += j\n",
        "  if sum > max :\n",
        "    max = sum\n",
        "  temp = str(max)\n",
        "  sum = 0\n",
        "print(temp)\n",
        "k = i\n",
        "print(k)"
      ],
      "metadata": {
        "colab": {
          "base_uri": "https://localhost:8080/"
        },
        "id": "SS2sLEpMZQOe",
        "outputId": "ca234cee-4307-4750-9c8e-56335cfd4dc5"
      },
      "execution_count": null,
      "outputs": [
        {
          "output_type": "stream",
          "name": "stdout",
          "text": [
            "12\n",
            "[3, 4, 5]\n"
          ]
        }
      ]
    },
    {
      "cell_type": "code",
      "source": [
        "#Task 2\n",
        "n       = int(input(\"Taking n times list :\"))\n",
        "sum     = 0\n",
        "max     = 0\n",
        "temp = []\n",
        "for i in range(n):\n",
        "  x = input()\n",
        "  xlist = x.split()\n",
        "  for j in xlist :\n",
        "    temp.append(int(j))\n",
        "  for k in temp:#list\n",
        "    sum += k\n",
        "  if sum > max :\n",
        "    result = temp\n",
        "    max = sum\n",
        "    temp = []\n",
        "    sum = 0\n",
        "print(f\"{max}\\n{result}\")\n",
        "\n"
      ],
      "metadata": {
        "id": "Sk88QIXPdI53"
      },
      "execution_count": null,
      "outputs": []
    },
    {
      "cell_type": "code",
      "source": [
        "#Task 3\n",
        "given_list1    = [2, 3, 6]\n",
        "given_list2    = [3, 4, 5]\n",
        "multiplication = []\n",
        "print(\"cross multiplication between two given lists\")\n",
        "for i in given_list1 :\n",
        "  for j in given_list2:\n",
        "    multiplication.append(i*j)\n",
        "print(multiplication)"
      ],
      "metadata": {
        "colab": {
          "base_uri": "https://localhost:8080/"
        },
        "id": "LXm88JWioxRO",
        "outputId": "7a03c115-0253-4c81-8e62-c1e15119775b"
      },
      "execution_count": null,
      "outputs": [
        {
          "output_type": "stream",
          "name": "stdout",
          "text": [
            "cross multiplication betweentwo given lists\n",
            "[6, 8, 10, 9, 12, 15, 18, 24, 30]\n"
          ]
        }
      ]
    },
    {
      "cell_type": "code",
      "source": [
        "#Task 4\n",
        "print(\"Is it UB-JUMPER or not a UB-JUMPER\")\n",
        "result_list = []\n",
        "while True :\n",
        "  test = input()\n",
        "  if test == \"STOP\":\n",
        "    break\n",
        "  else:\n",
        "    new_list = test.split()\n",
        "    for val in new_list:\n",
        "      result_list.append(int(val))\n",
        "\n",
        "    for i in range (len(result_list)-1):\n",
        "      difference = result_list[i] - result_list[i+1]\n",
        "      if difference < 0 :\n",
        "        difference = difference*(-1)\n",
        "    if len(result_list) -1  < difference :\n",
        "      print(\"Not UB Jumper\")\n",
        "\n",
        "    elif len(result_list) > difference :\n",
        "      print(\"UB Jumper\")"
      ],
      "metadata": {
        "id": "uTQ5b4l7qBSs"
      },
      "execution_count": null,
      "outputs": []
    },
    {
      "cell_type": "code",
      "source": [
        "#Task 5\n",
        "my_string = \"51234\"\n",
        "lowercase_letters = \"\"\n",
        "uppercase_letters = \"\"\n",
        "digit             = \"\"\n",
        "odd_digits        = \"\"\n",
        "even_digits       = \"\"\n",
        "for i in my_string:\n",
        "  if \"a\" <= i <= \"z\" :\n",
        "    lowercase_letters += i\n",
        "  elif \"A\" <= i <= \"Z\" :\n",
        "    uppercase_letters += i\n",
        "  elif \"0\" <= i <= \"9\":\n",
        "    digit += i\n",
        "\n",
        "\n",
        "\n",
        "lower = []\n",
        "for l in lowercase_letters :\n",
        "  lower.append(l)\n",
        "\n",
        "\n",
        "for l in range (len(lower)) :\n",
        "  min_l_idx = 0\n",
        "  for j in range (l+1,len(lower)):\n",
        "    if lower[l] > lower[j]:\n",
        "      min_l_idx = j\n",
        "      lower[l] , lower[min_l_idx] = lower[min_l_idx] ,lower[l]\n",
        "\n",
        "\n",
        "temp_lower = \"\"\n",
        "for i in lower:\n",
        "  temp_lower += i\n",
        "\n",
        "\n",
        "\n",
        "upper = []\n",
        "for u in uppercase_letters :\n",
        "  upper.append(u)\n",
        "\n",
        "\n",
        "for u in range (len(upper)) :\n",
        "  min_u_idx = 0\n",
        "  for j in range (u+1,len(upper)):\n",
        "    if upper[u] > upper[j]:\n",
        "      min_u_idx = j\n",
        "      upper[u] , upper[min_u_idx] = upper[min_u_idx] ,upper[u]\n",
        "\n",
        "\n",
        "temp_upper = \"\"\n",
        "for i in upper:\n",
        "  temp_upper += i\n",
        "\n",
        "digit_list = []\n",
        "for d in (digit):\n",
        "  digit_list.append(d)\n",
        "\n",
        "for d in range (len(digit_list)) :\n",
        "  min_u_idx = 0\n",
        "  for j in range (d+1,len(digit_list)):\n",
        "    if digit_list[d] > digit_list[j]:\n",
        "      min_u_idx = j\n",
        "      digit_list[d] , digit_list[min_u_idx] = digit_list[min_u_idx] ,digit_list[d]\n",
        "\n",
        "\n",
        "temp_digit_liat = \"\"\n",
        "for i in digit_list:\n",
        "  temp_digit_liat += i\n",
        "\n",
        "odd_digit_list  = []\n",
        "even_digit_list = []\n",
        "for o in range (len(temp_digit_liat)):\n",
        "  if int(temp_digit_liat[o])%2 != 0 :\n",
        "    odd_digit_list.append(temp_digit_liat[o])\n",
        "  elif int(digit_list[o])%2 == 0 :\n",
        "    even_digit_list.append(temp_digit_liat[o])\n",
        "\n",
        "temp_odd = \"\"\n",
        "for i in odd_digit_list:\n",
        "  temp_odd += str(i)\n",
        "\n",
        "\n",
        "temp_even = \"\"\n",
        "for i in even_digit_list:\n",
        "  temp_even += str(i)\n",
        "\n",
        "print(f\"{temp_lower}{temp_upper}{temp_odd}{temp_even}\")"
      ],
      "metadata": {
        "id": "Pbxi_BbSAWTU",
        "colab": {
          "base_uri": "https://localhost:8080/"
        },
        "outputId": "a4f9ab0c-24de-40ea-96d0-7ea8499b4cae"
      },
      "execution_count": null,
      "outputs": [
        {
          "output_type": "stream",
          "name": "stdout",
          "text": [
            "13524\n"
          ]
        }
      ]
    },
    {
      "cell_type": "code",
      "source": [
        "#Task 6\n",
        "str1 = input()\n",
        "str1=str1.split()\n",
        "str1_list = []\n",
        "for i in str1:\n",
        "  str1_list.append(int(i))\n",
        "\n",
        "str2 = input()\n",
        "str2=str2.split()\n",
        "str2_list = []\n",
        "for i in str2:\n",
        "  str2_list.append(int(i))\n",
        "\n",
        "m          = 5\n",
        "need       = 3\n",
        "difference = 0\n",
        "total      = []\n",
        "for i in str2_list:\n",
        "  need = m - i\n",
        "  if need >= str1_list[1]:\n",
        "    total.append(int(\"1\"))\n",
        "print(len(total)//3)\n",
        "\n"
      ],
      "metadata": {
        "id": "ywfmpFMYTSCA"
      },
      "execution_count": null,
      "outputs": []
    },
    {
      "cell_type": "markdown",
      "source": [
        "**Dictionary & Tuple**\n"
      ],
      "metadata": {
        "id": "N3VF9yZ9X5BP"
      }
    },
    {
      "cell_type": "code",
      "source": [
        "#Task 1\n",
        "str1 = \"a: 100, b: 100, c: 200, d: 300\"\n",
        "str1 = str1.split(\", \")\n",
        "list1 = []\n",
        "for i in str1 :\n",
        "  y=i.split(\": \")\n",
        "  for h in  y :\n",
        "    list1.append(h)\n",
        "dict1 = {}\n",
        "for i in range (len(list1)) :\n",
        "  if i % 2 == 0 :\n",
        "    dict1.update({list1[i]:int(list1[i+1])})\n",
        "\n",
        "\n",
        "str2 = \"a: 300, b: 200, d: 400, e: 200\"\n",
        "str2 = str2.split(\", \")\n",
        "list2 = []\n",
        "for i in str2 :\n",
        "  y=i.split(\": \")\n",
        "  for h in  y :\n",
        "    list2.append(h)\n",
        "dict2 = {}\n",
        "for i in range (len(list2)) :\n",
        "  if i % 2 == 0 :\n",
        "    dict2.update({list2[i]:int(list2[i+1])})\n",
        "temp = {}\n",
        "for key,val in dict1.items():\n",
        "  if key not in temp:\n",
        "    temp[key]=val\n",
        "\n",
        "for key2,val2 in dict2.items():\n",
        "  if key2 in temp:\n",
        "    temp[key2] += val2\n",
        "  else:\n",
        "    temp[key2] = val2\n",
        "print(temp)\n",
        "listx =[]\n",
        "for val in temp.values():\n",
        "  listx.append(val)\n",
        "print(tuple(listx))\n",
        "#{'a': 400, 'b': 300, 'c': 200, 'd': 700, 'e': 200}\n",
        "#(400, 300, 200, 700, 200"
      ],
      "metadata": {
        "id": "h1KdF94rYWHA"
      },
      "execution_count": null,
      "outputs": []
    },
    {
      "cell_type": "code",
      "source": [
        "#Task 2\n",
        "\n",
        "all_list     = []\n",
        "uniq_list    = []\n",
        "counter_list = []\n",
        "while True :\n",
        "  x = input()\n",
        "  if x == \"Stop\":\n",
        "    break\n",
        "  elif type(int(x)) == int:\n",
        "    all_list.append(int(x))\n",
        "  else:\n",
        "    pass\n",
        "for i in all_list:\n",
        "  if i not in uniq_list:\n",
        "    uniq_list.append(i)\n",
        "counter_list = []\n",
        "count        = 0\n",
        "for i in uniq_list:\n",
        "  for j in all_list:\n",
        "    if i == j :\n",
        "      count += 1\n",
        "      continue\n",
        "  counter_list.append(count)\n",
        "  count = 0\n",
        "dict1 = {}\n",
        "for c in range (len(counter_list)):\n",
        "  dict1.update({str(uniq_list[c])+ \" -\":str(counter_list[c])+\" times\"})\n",
        "print(dict1)\n",
        "for i,j in dict1.items():\n",
        "  print(i,j)\n",
        "\n"
      ],
      "metadata": {
        "colab": {
          "base_uri": "https://localhost:8080/"
        },
        "id": "UwsIfQKuYjL5",
        "outputId": "fd098cdf-d994-4a00-dcda-5934631bb656"
      },
      "execution_count": null,
      "outputs": [
        {
          "output_type": "stream",
          "name": "stdout",
          "text": [
            "20\n",
            "10\n",
            "20\n",
            "Stop\n",
            "{'20 -': '2 times', '10 -': '1 times'}\n",
            "20 - 2 times\n",
            "10 - 1 times\n"
          ]
        }
      ]
    },
    {
      "cell_type": "code",
      "source": [
        "#Task 3\n",
        "inputx = \" key1 : value1, key2 : value2, key3 : value1\"\n",
        "list1 = []\n",
        "x = inputx.split(\",\")\n",
        "for i in x :\n",
        "  y=i.split(\":\")\n",
        "  for h in  y :\n",
        "    list1.append(h)\n",
        "print(list1)\n",
        "dict1 = {}\n",
        "list2 = []\n",
        "for i in range (0,len(list1),2):\n",
        "  if list1[i+1] not in dict1:\n",
        "    dict1[list1[i+1]] = [list1[i]]\n",
        "  else:\n",
        "    dict1[list1[i+1]].append(list1[i])\n",
        "print(dict1)"
      ],
      "metadata": {
        "id": "0Vgbabq6E4-U",
        "colab": {
          "base_uri": "https://localhost:8080/"
        },
        "outputId": "1fde7a62-3b33-4ed7-c7b7-df989d62ddf3"
      },
      "execution_count": null,
      "outputs": [
        {
          "output_type": "stream",
          "name": "stdout",
          "text": [
            "[' key1 ', ' value1', ' key2 ', ' value2', ' key3 ', ' value1']\n",
            "{' value1': [' key1 ', ' key3 '], ' value2': [' key2 ']}\n"
          ]
        }
      ]
    },
    {
      "cell_type": "code",
      "source": [
        "#Task 3\n",
        "inputx = \" key1 : value1, key2 : value2, key3 : value1\"\n",
        "list1 = []\n",
        "x = inputx.split(\",\")\n",
        "for i in x :\n",
        "  y=i.split(\":\")\n",
        "  for h in  y :\n",
        "    list1.append(h)\n",
        "print(list1)\n",
        "dict1 = {}\n",
        "list2 = []\n",
        "for i in range (0,len(list1),2):\n",
        "  if list1[i+1] not in dict1:\n",
        "    dict1[list1[i+1]] = [list1[i]]\n",
        "  else:\n",
        "    dict1[list1[i+1]].append(list1[i])\n",
        "print(dict1)"
      ],
      "metadata": {
        "colab": {
          "base_uri": "https://localhost:8080/"
        },
        "outputId": "1fde7a62-3b33-4ed7-c7b7-df989d62ddf3",
        "id": "gOAEXLkSbdrc"
      },
      "execution_count": null,
      "outputs": [
        {
          "output_type": "stream",
          "name": "stdout",
          "text": [
            "[' key1 ', ' value1', ' key2 ', ' value2', ' key3 ', ' value1']\n",
            "{' value1': [' key1 ', ' key3 '], ' value2': [' key2 ']}\n"
          ]
        }
      ]
    },
    {
      "cell_type": "code",
      "source": [
        "#Task 4\n",
        "x = \"Python programming is fun\"\n",
        "x1 = \"\"\n",
        "for i in x :\n",
        "  if \"A\" <= i <= \"Z\":\n",
        "    x1 = x1 + chr(ord(i)+32)\n",
        "  elif \"a\" <= i <= \"z\":\n",
        "    x1 +=  i\n",
        "  else:\n",
        "    x1 += i\n",
        "\n",
        "\n",
        "list1 = []\n",
        "for i in x1 :\n",
        "  if i == \" \":\n",
        "    pass\n",
        "  elif \"0\" <= i <= \"9\":\n",
        "    list1.append(i)\n",
        "  elif \"a\" <= i <= \"z\":\n",
        "    list1.append(i)\n",
        "  else:\n",
        "    list1.append(i)\n",
        "uniq_list = []\n",
        "for i in list1 :\n",
        "  if i not in uniq_list :\n",
        "    uniq_list.append(i)\n",
        "counter_list = []\n",
        "count = 0\n",
        "for i in uniq_list:\n",
        "  for j in list1 :\n",
        "    if i == j:\n",
        "      count += 1\n",
        "      continue\n",
        "  counter_list.append(count)\n",
        "  count = 0\n",
        "temp = {}\n",
        "for i in range (len(uniq_list)):\n",
        "  temp.update({uniq_list[i]:counter_list[i]})\n",
        "print(temp)\n"
      ],
      "metadata": {
        "colab": {
          "base_uri": "https://localhost:8080/"
        },
        "id": "HSmF7vfDVT7_",
        "outputId": "8084e152-5fc0-4acc-8fe0-e8f054922f47"
      },
      "execution_count": null,
      "outputs": [
        {
          "output_type": "stream",
          "name": "stdout",
          "text": [
            "python programming is fun\n",
            "{'p': 2, 'y': 1, 't': 1, 'h': 1, 'o': 2, 'n': 3, 'r': 2, 'g': 2, 'a': 1, 'm': 2, 'i': 2, 's': 1, 'f': 1, 'u': 1}\n"
          ]
        }
      ]
    },
    {
      "cell_type": "code",
      "source": [
        "#Task 5\n",
        "x1 = input()\n",
        "x2 = input()\n",
        "digit = \"0\" or \"1\" or \"2\" or \"3\" or \"4\" or \"5\" or \"6\" or \"7\" or \"8\" or \"9\"\n",
        "if len(x1) != len(x2):\n",
        "  print(\"Those strings are not anagrams.\")\n",
        "elif x1 == x2 :\n",
        "  print(\"Those strings are not anagrams.\")\n",
        "elif  digit in x1 :\n",
        "  print(\"Those strings are not anagrams.\")\n",
        "elif  digit in x2 :\n",
        "  print(\"Those strings are not anagrams.\")\n",
        "else:\n",
        "  for i in x1 :\n",
        "    if i not in x2 :\n",
        "      print(\"Those strings are not anagrams.\")\n",
        "      break\n",
        "    else:\n",
        "      char_count1 ={}\n",
        "      for char in x1:\n",
        "          if char in char_count1:\n",
        "              char_count1[char] += 1\n",
        "          else:\n",
        "              char_count1[char] = 1\n",
        "      char_count2 = {}\n",
        "      for char in x2:\n",
        "        if char in char_count2:\n",
        "            char_count2[char] += 1\n",
        "        else:\n",
        "            char_count2[char] = 1\n",
        "\n",
        "    flg = False\n",
        "    for k1,v1 in char_count1.items():\n",
        "      for k2,v2 in char_count2.items():\n",
        "        if k1 == k2 :\n",
        "          if (v1 - v2) == 0:\n",
        "            flg = True\n",
        "\n",
        "    if flg == True :\n",
        "      print(\"Those strings are anagrams.\")\n",
        "      break\n",
        "    else:\n",
        "      print(\"Those strings are not anagrams.\")\n",
        "      break\n",
        "\n",
        "\n"
      ],
      "metadata": {
        "id": "JSCICIj5O44T",
        "colab": {
          "base_uri": "https://localhost:8080/"
        },
        "outputId": "c89978e0-1b31-48fa-876c-f15da04b81ab"
      },
      "execution_count": null,
      "outputs": [
        {
          "output_type": "stream",
          "name": "stdout",
          "text": [
            "live\n",
            "live\n",
            "Those strings are not anagrams.\n"
          ]
        }
      ]
    },
    {
      "cell_type": "code",
      "source": [
        "#Task 6\n",
        "phone_dict = {\n",
        "    \"1\" : ['.' , ',' , '?' , '!' , ':'],\n",
        "    \"2\" : [\"A\" , \"B\" , \"C\"],\n",
        "    \"3\" : [\"D\" , \"E\" , \"F\"],\n",
        "    \"4\" : [\"G\" , \"H\" , \"I\"],\n",
        "    \"5\" : [\"J\" , \"K\" , \"L\"],\n",
        "    \"6\" : [\"M\" , \"N\" , \"O\"],\n",
        "    \"7\" : [\"P\" , \"Q\" , \"R\" , \"S\"],\n",
        "    \"8\" : [\"T\" , \"U\" , \"V\"],\n",
        "    \"9\" : [\"W\" , \"X\" , \"Y\" , \"Z\"],\n",
        "    \"0\" : [\" \"]\n",
        "    }\n",
        "\n",
        "x = input()\n",
        "x1 = \"\"\n",
        "for i in x :\n",
        "  if \"A\" <= i <= \"Z\":\n",
        "    x1 += i\n",
        "  elif \"a\" <= i <= \"z\":\n",
        "    x1 = x1 + chr(ord(i)-32)\n",
        "  else:\n",
        "    x1 += i\n",
        "\n",
        "letter_list = []\n",
        "for i in x1 :\n",
        "  letter_list.append(i)\n",
        "\n",
        "temp = \"\"\n",
        "for i in letter_list:\n",
        "  for k,v in phone_dict.items():\n",
        "    for j in range (len(v)) :\n",
        "      if i == v[j]:\n",
        "        temp += k*(j+1)\n",
        "print(temp)\n",
        "#4433555555666110966677755531111"
      ],
      "metadata": {
        "id": "LY7sy_tJQuq9",
        "colab": {
          "base_uri": "https://localhost:8080/"
        },
        "outputId": "ac084215-82bc-4a8f-a66d-9c7598c2b002"
      },
      "execution_count": null,
      "outputs": [
        {
          "output_type": "stream",
          "name": "stdout",
          "text": [
            "Hello, World!\n",
            "4433555555666110966677755531111\n"
          ]
        }
      ]
    },
    {
      "cell_type": "code",
      "source": [
        "x = [\"B\",\"A\",\"C\",\"D\"]\n",
        "for i in range (len(x)):\n",
        "  min_idx = 0\n",
        "  for j in range(1+i,len(x)):\n",
        "    if x[i] > x[j]:\n",
        "      min_idx = j\n",
        "      x[i],x[min_idx] = x[min_idx],x[i]\n",
        "print(x)"
      ],
      "metadata": {
        "id": "pPLFLdDwrEhR",
        "colab": {
          "base_uri": "https://localhost:8080/"
        },
        "outputId": "78cea183-aa5a-49ac-cefe-91666f4f8695"
      },
      "execution_count": null,
      "outputs": [
        {
          "output_type": "stream",
          "name": "stdout",
          "text": [
            "['A', 'B', 'C', 'D']\n"
          ]
        }
      ]
    }
  ]
}
