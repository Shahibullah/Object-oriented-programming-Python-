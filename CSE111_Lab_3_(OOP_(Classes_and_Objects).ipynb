{
  "cells": [
    {
      "cell_type": "code",
      "execution_count": 1,
      "metadata": {
        "id": "RwIoxPLqIrga",
        "colab": {
          "base_uri": "https://localhost:8080/"
        },
        "outputId": "31ae7d4f-0953-4682-e38a-f14bca8b95da"
      },
      "outputs": [
        {
          "output_type": "stream",
          "name": "stdout",
          "text": [
            "=====================================\n",
            "User Name: Bilbo\n",
            "Balance: 1.0\n",
            "Account Type: Savings\n",
            "=====================================\n",
            "User Name: Frodo\n",
            "Balance: 1.0\n",
            "Account Type: Business\n",
            "=====================================\n",
            "New account balance of Bilbo is 15.75\n",
            "New account balance of Frodo is 700.5 \n"
          ]
        }
      ],
      "source": [
        "#Class Task 1 (BankAccount)\n",
        "class  BankAccount:\n",
        "  def __init__(self,name,account_type):\n",
        "    self.user_name = name\n",
        "    self.balance = 1.0\n",
        "    self.account_type = account_type\n",
        "\n",
        "\n",
        "account1 = BankAccount(\"Bilbo\", \"Savings\")\n",
        "print(\"=====================================\")\n",
        "print(f\"User Name: {account1.user_name}\")\n",
        "print(f\"Balance: {account1.balance}\")\n",
        "print(f\"Account Type:\", account1.account_type)\n",
        "print(\"=====================================\")\n",
        "account2 = BankAccount(\"Frodo\", \"Business\")\n",
        "print(f\"User Name: {account2.user_name}\")\n",
        "print(f\"Balance: {account2.balance}\")\n",
        "print(f\"Account Type: {account2.account_type}\")\n",
        "print(\"=====================================\")\n",
        "\n",
        "account1.balance = 15.75\n",
        "account2.balance = 700.50\n",
        "print(f\"New account balance of {account1.user_name} is {account1.balance}\\nNew account balance of {account2.user_name} is {account2.balance} \")"
      ]
    },
    {
      "cell_type": "code",
      "execution_count": 3,
      "metadata": {
        "colab": {
          "base_uri": "https://localhost:8080/"
        },
        "id": "qeT5ij0MOlhc",
        "outputId": "9b1c4032-fa3f-4a5c-ddeb-56234125723d"
      },
      "outputs": [
        {
          "output_type": "stream",
          "name": "stdout",
          "text": [
            "=====================================\n",
            "Mango Tree Details:\n",
            "Variety: Gopalbhog\n",
            "Height: 1 meter(s)\n",
            "Number of mangoes on the tree: 0\n",
            "=====================================\n",
            "Mango Tree Details:\n",
            "Variety: Amrapali\n",
            "Height: 1 meter(s)\n",
            "Number of mangoes on the tree: 0\n",
            "=====================================\n"
          ]
        }
      ],
      "source": [
        "#Class Task 2 (MangoTree)\n",
        "class MangoTree:\n",
        "  def __init__(self,variety):\n",
        "    self.variety = variety\n",
        "    self.height  = 1\n",
        "    self.number_of_mangoes = 0\n",
        "mangoTree1= MangoTree(\"Gopalbhog\")\n",
        "print(\"=====================================\")\n",
        "print(\"Mango Tree Details:\")\n",
        "print(f\"Variety: {mangoTree1.variety}\")\n",
        "print(f\"Height: {mangoTree1.height} meter(s)\")\n",
        "print(f\"Number of mangoes on the tree: {mangoTree1.number_of_mangoes}\")\n",
        "print(\"=====================================\")\n",
        "mangoTree2= MangoTree(\"Amrapali\")\n",
        "print(\"Mango Tree Details:\")\n",
        "print(f\"Variety: {mangoTree2.variety}\")\n",
        "print(f\"Height: {mangoTree2.height} meter(s)\")\n",
        "print(f\"Number of mangoes on the tree: {mangoTree2.number_of_mangoes}\")\n",
        "print(\"=====================================\")\n"
      ]
    },
    {
      "cell_type": "code",
      "execution_count": null,
      "metadata": {
        "colab": {
          "base_uri": "https://localhost:8080/"
        },
        "id": "ha_VEmsOSJBc",
        "outputId": "ccc1879f-30f7-4a0c-dd8e-f2f2b12f0b3f"
      },
      "outputs": [
        {
          "name": "stdout",
          "output_type": "stream",
          "text": [
            "Contacts cannot be saved. Length Mismatch!\n",
            "Saved Contacts: {}\n",
            "---------------------------------------------\n",
            "Contacts saved successfully.\n",
            "Saved Contacts: {'Emergency': ['01xx65'], 'Father': ['01xx65'], 'Bestie': ['01xx65'], 'Mother': ['01xx65']}\n"
          ]
        }
      ],
      "source": [
        "#Class Task 3 (Contacts)\n",
        "class Contacts:\n",
        "  def __init__ (self,names,numbers):\n",
        "    self.name =  names\n",
        "    self.number = numbers\n",
        "    self.contactDict = {}\n",
        "    if len(self.name) == len(self.number):\n",
        "      print(\"Contacts saved successfully.\")\n",
        "      for i in self.name :\n",
        "        for j in self.number:\n",
        "          self.contactDict[i]=[j]\n",
        "    else:\n",
        "       self.contactDict = {}\n",
        "       print(f\"Contacts cannot be saved. Length Mismatch!\")\n",
        "names = [\"Emergency\", \"Father\", \"Bestie\"]\n",
        "numbers = [\"999\", \"01xx23\", \"01xx87\", \"01xx65\", \"01xx43\"]\n",
        "m1 = Contacts(names, numbers)\n",
        "print(\"Saved Contacts:\", m1.contactDict)\n",
        "print(\"---------------------------------------------\")\n",
        "names.append(\"Mother\")\n",
        "numbers.pop()\n",
        "m2 = Contacts(names, numbers)\n",
        "print(\"Saved Contacts:\", m2.contactDict)"
      ]
    },
    {
      "cell_type": "code",
      "execution_count": 16,
      "metadata": {
        "colab": {
          "base_uri": "https://localhost:8080/"
        },
        "id": "h3Jmy-1nYbsv",
        "outputId": "8ec16a3e-0c4b-4f8d-cf6d-e1d3c005d267"
      },
      "outputs": [
        {
          "output_type": "stream",
          "name": "stdout",
          "text": [
            "Data = 6144\n",
            "Talktime = 99\n",
            "SMS/MMS = 20\n",
            "Validity = 7 Days\n",
            "--> Price = 150 tk\n",
            "Buy now to get 10 tk cashback.\n",
            "===========Package1=============\n",
            "Data = 35840\n",
            "Talktime = 700\n",
            "Validity = 30 Days\n",
            "--> Price = 700 tk\n",
            "Buy now to get 70 tk cashback.\n",
            "===========Package2=============\n",
            "Talktime = 190\n",
            "Validity = 10 Days\n",
            "--> Price = 120 tk\n",
            "============Package3============\n"
          ]
        }
      ],
      "source": [
        "#Class Task 4(CellPackage)\n",
        "class CellPackage:\n",
        "  def __init__ (self,price,data,talktime,sms, percentage,validity):\n",
        "    self.price    = int(price)#5\n",
        "    self.data     = int(data[:-3]) * 1024 #1\n",
        "    self.talktime = int(talktime)#2\n",
        "    self.sms      = int(sms)#3\n",
        "    self.percentage =  float(percentage[:-1])\n",
        "    self.cashback = int(self.price*(self.percentage/100))\n",
        "    self.validity = int(validity)#4\n",
        "\n",
        "    if self.data != 0 :\n",
        "      print(f\"Data = {self.data}\")\n",
        "    if self.talktime != 0 :\n",
        "      print(f\"Talktime = {self.talktime}\")\n",
        "    if self.sms != 0 :\n",
        "      print(f\"SMS/MMS = {self.sms}\")\n",
        "    if self.validity != 0:\n",
        "      print(f\"Validity = {self.validity} Days\")\n",
        "    print(f\"--> Price = {self.price} tk\")\n",
        "    if self.cashback != 0:\n",
        "      print(f\"Buy now to get {self.cashback} tk cashback.\")\n",
        "pkg = CellPackage(150, '6 GB', 99, 20,'7%', 7)\n",
        "print('===========Package1=============')\n",
        "# Subtask 2: Check each attribute and print\n",
        "pkg2 = CellPackage(700, '35 GB', 700, 0,'10%', 30)\n",
        "print('===========Package2=============')\n",
        "# Subtask 3: Check each attribute and print\n",
        "pkg4 = CellPackage(120, '0 GB', 190, 0,'0%', 10)\n",
        "print('============Package3============')\n",
        "# Subtask 4: Check each attribute and print"
      ]
    },
    {
      "cell_type": "code",
      "execution_count": null,
      "metadata": {
        "colab": {
          "base_uri": "https://localhost:8080/"
        },
        "id": "vHuUsr6odhso",
        "outputId": "f1ed7c50-d692-46bf-9a0a-1cb6ef94a6b0"
      },
      "outputs": [
        {
          "name": "stdout",
          "output_type": "stream",
          "text": [
            "Checking the book.\n",
            "This book is Rejected. The book is not antique enough.\n",
            "Ferguson wrote the book 'The Act'.\n",
            "This book was published in1924.\n",
            "This book is This book is Rejected. The book is not antique enough.\n",
            "-------------------------------------\n",
            "Checking the book.\n",
            "This book is Rejected. The book is not antique enough.\n",
            "Nolan wrote the book 'Flame'.\n",
            "This book was published in1932.\n",
            "This book is This book is Rejected. The book is not antique enough.\n",
            "-------------------------------------\n",
            "Checking the book.\n",
            "This book is Rejected. The book is not antique enough.\n",
            "Alfred wrote the book 'Norms'.\n",
            "This book was published in1832.\n",
            "This book is This book is Rejected. The book is not antique enough.\n",
            "-------------------------------------\n",
            "Checking the book.\n",
            "This book is Rejected. The book is not antique enough.\n",
            "Samson wrote the book 'Apex'.\n",
            "This book was published in1923.\n",
            "This book is This book is Rejected. The book is not antique enough.\n",
            "-------------------------------------\n",
            "Checking the book.\n",
            "This book is acepted. The book is stored on floor: 0.\n",
            "Eden wrote the book 'Habitat'.\n",
            "This book was published in1723.\n",
            "This book is This book is acepted. The book is stored on floor: 0.\n",
            "-------------------------------------\n",
            "Checking the book.\n",
            "This book is acepted. The book is stored on floor: 1.\n",
            "Menez wrote the book 'Apocalypto'.\n",
            "This book was published in1603.\n",
            "This book is This book is acepted. The book is stored on floor: 1.\n"
          ]
        }
      ],
      "source": [
        "#Homework Part 1 (Book)\n",
        "import datetime\n",
        "today = datetime.date.today()\n",
        "year = today.year\n",
        "class Book:\n",
        "  def __init__(self,film_name,author,year1):\n",
        "    self.name                = film_name\n",
        "    self.author                   = author\n",
        "    self.year_of_publication      = year1\n",
        "    self.status                   = \"\"#status\n",
        "\n",
        "    if  (year -  self.year_of_publication  ) < 200 :\n",
        "      self.status = \"This book is Rejected. The book is not antique enough.\"\n",
        "      print(f\"Checking the book.\\n{self.status}\")\n",
        "\n",
        "    elif  200 <=(year -  self.year_of_publication ) < 400  :\n",
        "      self.status = \"This book is acepted. The book is stored on floor: 0.\"\n",
        "      print(f\"Checking the book.\\n{self.status}\")\n",
        "    elif (year -  self.year_of_publication  ) >  400 :\n",
        "      self.status = \"This book is acepted. The book is stored on floor: 1.\"\n",
        "      print(f\"Checking the book.\\n{self.status}\")\n",
        "book1= Book('The Act', 'Ferguson', 1924)\n",
        "print(f\"{book1.author} wrote the book '{book1.name}'.\")\n",
        "print(f\"This book was published in{book1.year_of_publication}.\")\n",
        "print(f\"This book is {book1.status}\")\n",
        "print(\"-------------------------------------\")\n",
        "book2= Book('Flame', 'Nolan', 1932)\n",
        "print(f\"{book2.author} wrote the book '{book2.name}'.\")\n",
        "print(f\"This book was published in{book2.year_of_publication}.\")\n",
        "print(f\"This book is {book2.status}\")\n",
        "print(\"-------------------------------------\")\n",
        "book3= Book('Norms', 'Alfred', 1832)\n",
        "print(f\"{book3.author} wrote the book '{book3.name}'.\")\n",
        "print(f\"This book was published in{book3.year_of_publication}.\")\n",
        "print(f\"This book is {book3.status}\")\n",
        "print(\"-------------------------------------\")\n",
        "book4= Book('Apex', 'Samson', 1923)\n",
        "print(f\"{book4.author} wrote the book '{book4.name}'.\")\n",
        "print(f\"This book was published in{book4.year_of_publication}.\")\n",
        "print(f\"This book is {book4.status}\")\n",
        "print(\"-------------------------------------\")\n",
        "book5= Book('Habitat', 'Eden', 1723)\n",
        "print(f\"{book5.author} wrote the book '{book5.name}'.\")\n",
        "print(f\"This book was published in{book5.year_of_publication}.\")\n",
        "print(f\"This book is {book5.status}\")\n",
        "print(\"-------------------------------------\")\n",
        "book6= Book('Apocalypto', 'Menez', 1603)\n",
        "print(f\"{book6.author} wrote the book '{book6.name}'.\")\n",
        "print(f\"This book was published in{book6.year_of_publication}.\")\n",
        "print(f\"This book is {book6.status}\")"
      ]
    },
    {
      "cell_type": "code",
      "execution_count": null,
      "metadata": {
        "colab": {
          "base_uri": "https://localhost:8080/"
        },
        "id": "I7f-mQJbgqCK",
        "outputId": "af95f571-ab7d-4724-dfde-f869166c1f27"
      },
      "outputs": [
        {
          "output_type": "stream",
          "name": "stdout",
          "text": [
            "=======Team 1=======\n",
            "Pokemon 1: pikachu 90\n",
            "Pokemon 2: charmander 60\n",
            "Combined Power: 1500\n",
            "=======Team 2=======\n",
            "Pokemon 1: bulbasaur 80\n",
            "Pokemon 2: squirtle 70\n",
            "Combined Power: 1350\n"
          ]
        }
      ],
      "source": [
        "#Homework Part 2 (Pokemon)\n",
        "class Pokemon:\n",
        "  def __init__ (self,pokemon1_name,pokemon2_name,pokemon1_power,pokemon2_power,damage_rate):\n",
        "    self.pokemon1_name = pokemon1_name\n",
        "    self.pokemon2_name = pokemon2_name\n",
        "    self.pokemon1_power = int(pokemon1_power)\n",
        "    self.pokemon2_power = int(pokemon2_power)\n",
        "    self.damage_rate    =  int(damage_rate)\n",
        "\n",
        "team_pika = Pokemon('pikachu', 'charmander', 90, 60, 10)\n",
        "print('=======Team 1=======')\n",
        "print('Pokemon 1:',team_pika.pokemon1_name,team_pika.pokemon1_power)\n",
        "print('Pokemon 2:',team_pika.pokemon2_name,team_pika.pokemon2_power)\n",
        "pika_combined_power = (team_pika.pokemon1_power +team_pika.pokemon2_power) * team_pika.damage_rate\n",
        "print('Combined Power:', pika_combined_power)\n",
        "print(\"=======Team 2=======\")\n",
        "\n",
        "team_pika2 = Pokemon('bulbasaur', 'squirtle', 80, 70, 9)\n",
        "print('Pokemon 1:',team_pika2.pokemon1_name,team_pika2.pokemon1_power)\n",
        "print('Pokemon 2:',team_pika2.pokemon2_name,team_pika2.pokemon2_power)\n",
        "pika_combined_power = (team_pika2.pokemon1_power +team_pika2.pokemon2_power) * team_pika2.damage_rate\n",
        "print('Combined Power:', pika_combined_power)"
      ]
    },
    {
      "cell_type": "code",
      "execution_count": null,
      "metadata": {
        "id": "Lek15ECozMNk"
      },
      "outputs": [],
      "source": [
        "# Homework Part 3 (box)\n",
        "# Write your class code here\n",
        "class box :\n",
        "  def __init__ (self,number) :\n",
        "    print(\"Creating a Box!\")\n",
        "\n",
        "    self.height = number[0]\n",
        "    self.width  = number[1]\n",
        "    self.breadth = number[2]\n",
        "    self.volume  = self.height * self.width  * self.breadth\n",
        "print(\"Box 1\")\n",
        "b1 = box([10,10,10])\n",
        "\n",
        "print(\"=========================\")\n",
        "print(\"Height:\", b1.height)\n",
        "print(\"Width:\", b1.width)\n",
        "print(\"Breadth:\", b1.breadth)\n",
        "volume = b1.height * b1.width *b1.breadth\n",
        "print(f\"Volume of the box is {volume}cubic units.\")\n",
        "print(\"-------------------------\")\n",
        "print(\"Box 2\")\n",
        "b2 = box((30,10,10))\n",
        "print(\"=========================\")\n",
        "print(\"Height:\", b2.height)\n",
        "print(\"Width:\", b2.width)\n",
        "print(\"Breadth:\", b2.breadth)\n",
        "volume = b2.height * b2.width *b2.breadth\n",
        "print(f\"Volume of the box is {volume}cubic units.\")\n",
        "b2.height = 300\n",
        "print(\"Updating Box 2!\")\n",
        "print(\"Height:\", b2.height)\n",
        "print(\"Width:\", b2.width)\n",
        "print(\"Breadth:\", b2.breadth)\n",
        "volume = b2.height * b2.width *b2.breadth\n",
        "print(f\"Volume of the box is {volume}cubic units.\")\n",
        "print(\"-------------------------\")\n",
        "print(\"Box 3\")\n",
        "b3 = b2\n",
        "print(\"Height:\", b3.height)\n",
        "print(\"Width:\", b3.width)\n",
        "print(\"Breadth:\", b3.breadth)\n",
        "volume = b3.height * b3.width *b3.breadth\n",
        "print(f\"Volume of the box is {volume}cubic units.\")\n",
        "one = (b3 == b2)\n",
        "b3.width = 100\n",
        "two = (b3 == b2)\n",
        "print(one)\n",
        "print(two)"
      ]
    },
    {
      "cell_type": "code",
      "execution_count": null,
      "metadata": {
        "id": "ylnLMV-DTbdm",
        "colab": {
          "base_uri": "https://localhost:8080/"
        },
        "outputId": "250a7c8b-2189-4dea-df37-7d7f585aaf3e"
      },
      "outputs": [
        {
          "output_type": "stream",
          "name": "stdout",
          "text": [
            "['Chicken_Cheeseburger', 2, 498, 'Fries', 3, 417, 'Soft_Drinks', 3, 150]\n",
            "\n",
            "-----------------------------------\n",
            "Item x Quantity : Price\n",
            "-------------- -------- -------\n",
            "Chicken_Cheeseburger x  2 :  498.00\n",
            "Fries                x  3 :  417.00\n",
            "Soft_Drinks          x  3 :  150.00\n",
            "-----------------------------------\n",
            "Total: 1065.00\n",
            "-----------------------------------\n"
          ]
        }
      ],
      "source": [
        "# Homework Part 4 (Order)\n",
        "menu = {\n",
        "'Chicken_Cheeseburger' : 249,\n",
        "'Mega_Cheeseburger' : 289,\n",
        "'Fries' : 139,\n",
        "'Hot_Wings' : 99,\n",
        "'Rice_Bowl' : 299,\n",
        "'Soft_Drinks' : 50\n",
        "}\n",
        "list1 = []\n",
        "class Order:\n",
        "  def __init__(self,menu,food):\n",
        "    self.menu = menu\n",
        "    self.food = food\n",
        "    self.items = []\n",
        "    food = self.food.split(\", \")\n",
        "    for i in food :\n",
        "      food1 = i.split(\"-\")\n",
        "      for j in food1 :\n",
        "        list1.append(j)\n",
        "    for key , val in menu.items():\n",
        "      for i in range (len(list1)):\n",
        "        if key == list1[i] :\n",
        "          self.items.append(key)\n",
        "          self.items.append(int(list1[i+1]))\n",
        "          self.items.append(int(list1[i+1])*val)\n",
        "order1 = Order(menu, \"Chicken_Cheeseburger-2, Fries-3, Soft_Drinks-3\")\n",
        "print(order1.items)\n",
        "print()\n",
        "print('-'*35)\n",
        "print('Item x Quantity : Price')\n",
        "print('-------------- -------- -------')\n",
        "index = 0\n",
        "total = 0\n",
        "while index < len(order1.items):\n",
        "  item = order1.items[index]\n",
        "  quantity = order1.items[index+1]\n",
        "  price = order1.items[index+2]\n",
        "  print(f'{item:20} x {quantity:2} : {price:7.2f}')\n",
        "  total += price\n",
        "  index += 3 # Going to next item\n",
        "print('-'*35)\n",
        "print(f'Total: {total:7.2f}')\n",
        "print('-'*35)\n"
      ]
    }
  ],
  "metadata": {
    "colab": {
      "provenance": []
    },
    "kernelspec": {
      "display_name": "Python 3",
      "name": "python3"
    },
    "language_info": {
      "name": "python"
    }
  },
  "nbformat": 4,
  "nbformat_minor": 0
}